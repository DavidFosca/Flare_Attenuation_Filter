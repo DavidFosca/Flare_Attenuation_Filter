{
 "cells": [
  {
   "cell_type": "markdown",
   "metadata": {
    "id": "PxhuVVw-Sf-X"
   },
   "source": [
    "#### Libraries"
   ]
  },
  {
   "cell_type": "code",
   "execution_count": null,
   "metadata": {
    "colab": {
     "base_uri": "https://localhost:8080/"
    },
    "id": "a7VixB663opm",
    "outputId": "6d5c34ee-9808-4999-8d22-6c4692622f64"
   },
   "outputs": [
    {
     "name": "stdout",
     "output_type": "stream",
     "text": [
      "Looking in indexes: https://pypi.org/simple, https://us-python.pkg.dev/colab-wheels/public/simple/\n",
      "Collecting tf2onnx\n",
      "  Downloading tf2onnx-1.14.0-py3-none-any.whl (451 kB)\n",
      "\u001b[2K     \u001b[90m━━━━━━━━━━━━━━━━━━━━━━━━━━━━━━━━━━━━━━━\u001b[0m \u001b[32m451.2/451.2 kB\u001b[0m \u001b[31m6.7 MB/s\u001b[0m eta \u001b[36m0:00:00\u001b[0m\n",
      "\u001b[?25hRequirement already satisfied: numpy>=1.14.1 in /usr/local/lib/python3.10/dist-packages (from tf2onnx) (1.22.4)\n",
      "Collecting onnx>=1.4.1 (from tf2onnx)\n",
      "  Downloading onnx-1.14.0-cp310-cp310-manylinux_2_17_x86_64.manylinux2014_x86_64.whl (14.6 MB)\n",
      "\u001b[2K     \u001b[90m━━━━━━━━━━━━━━━━━━━━━━━━━━━━━━━━━━━━━━━━\u001b[0m \u001b[32m14.6/14.6 MB\u001b[0m \u001b[31m39.2 MB/s\u001b[0m eta \u001b[36m0:00:00\u001b[0m\n",
      "\u001b[?25hRequirement already satisfied: requests in /usr/local/lib/python3.10/dist-packages (from tf2onnx) (2.27.1)\n",
      "Requirement already satisfied: six in /usr/local/lib/python3.10/dist-packages (from tf2onnx) (1.16.0)\n",
      "Collecting flatbuffers<3.0,>=1.12 (from tf2onnx)\n",
      "  Downloading flatbuffers-2.0.7-py2.py3-none-any.whl (26 kB)\n",
      "Requirement already satisfied: protobuf>=3.20.2 in /usr/local/lib/python3.10/dist-packages (from onnx>=1.4.1->tf2onnx) (3.20.3)\n",
      "Requirement already satisfied: typing-extensions>=3.6.2.1 in /usr/local/lib/python3.10/dist-packages (from onnx>=1.4.1->tf2onnx) (4.5.0)\n",
      "Requirement already satisfied: urllib3<1.27,>=1.21.1 in /usr/local/lib/python3.10/dist-packages (from requests->tf2onnx) (1.26.15)\n",
      "Requirement already satisfied: certifi>=2017.4.17 in /usr/local/lib/python3.10/dist-packages (from requests->tf2onnx) (2022.12.7)\n",
      "Requirement already satisfied: charset-normalizer~=2.0.0 in /usr/local/lib/python3.10/dist-packages (from requests->tf2onnx) (2.0.12)\n",
      "Requirement already satisfied: idna<4,>=2.5 in /usr/local/lib/python3.10/dist-packages (from requests->tf2onnx) (3.4)\n",
      "Installing collected packages: flatbuffers, onnx, tf2onnx\n",
      "  Attempting uninstall: flatbuffers\n",
      "    Found existing installation: flatbuffers 23.3.3\n",
      "    Uninstalling flatbuffers-23.3.3:\n",
      "      Successfully uninstalled flatbuffers-23.3.3\n",
      "Successfully installed flatbuffers-2.0.7 onnx-1.14.0 tf2onnx-1.14.0\n",
      "Looking in indexes: https://pypi.org/simple, https://us-python.pkg.dev/colab-wheels/public/simple/\n",
      "Collecting onnxruntime\n",
      "  Downloading onnxruntime-1.14.1-cp310-cp310-manylinux_2_27_x86_64.whl (5.0 MB)\n",
      "\u001b[2K     \u001b[90m━━━━━━━━━━━━━━━━━━━━━━━━━━━━━━━━━━━━━━━━\u001b[0m \u001b[32m5.0/5.0 MB\u001b[0m \u001b[31m11.1 MB/s\u001b[0m eta \u001b[36m0:00:00\u001b[0m\n",
      "\u001b[?25hCollecting coloredlogs (from onnxruntime)\n",
      "  Downloading coloredlogs-15.0.1-py2.py3-none-any.whl (46 kB)\n",
      "\u001b[2K     \u001b[90m━━━━━━━━━━━━━━━━━━━━━━━━━━━━━━━━━━━━━━━━\u001b[0m \u001b[32m46.0/46.0 kB\u001b[0m \u001b[31m3.6 MB/s\u001b[0m eta \u001b[36m0:00:00\u001b[0m\n",
      "\u001b[?25hRequirement already satisfied: flatbuffers in /usr/local/lib/python3.10/dist-packages (from onnxruntime) (2.0.7)\n",
      "Requirement already satisfied: numpy>=1.21.6 in /usr/local/lib/python3.10/dist-packages (from onnxruntime) (1.22.4)\n",
      "Requirement already satisfied: packaging in /usr/local/lib/python3.10/dist-packages (from onnxruntime) (23.1)\n",
      "Requirement already satisfied: protobuf in /usr/local/lib/python3.10/dist-packages (from onnxruntime) (3.20.3)\n",
      "Requirement already satisfied: sympy in /usr/local/lib/python3.10/dist-packages (from onnxruntime) (1.11.1)\n",
      "Collecting humanfriendly>=9.1 (from coloredlogs->onnxruntime)\n",
      "  Downloading humanfriendly-10.0-py2.py3-none-any.whl (86 kB)\n",
      "\u001b[2K     \u001b[90m━━━━━━━━━━━━━━━━━━━━━━━━━━━━━━━━━━━━━━━━\u001b[0m \u001b[32m86.8/86.8 kB\u001b[0m \u001b[31m5.1 MB/s\u001b[0m eta \u001b[36m0:00:00\u001b[0m\n",
      "\u001b[?25hRequirement already satisfied: mpmath>=0.19 in /usr/local/lib/python3.10/dist-packages (from sympy->onnxruntime) (1.3.0)\n",
      "Installing collected packages: humanfriendly, coloredlogs, onnxruntime\n",
      "Successfully installed coloredlogs-15.0.1 humanfriendly-10.0 onnxruntime-1.14.1\n",
      "Mounted at /content/drive\n"
     ]
    }
   ],
   "source": [
    "!pip install tf2onnx\n",
    "!pip install onnxruntime\n",
    "import tensorflow as tf\n",
    "import tf2onnx\n",
    "import onnx\n",
    "import onnxruntime as rt\n",
    "import numpy as np\n",
    "import cv2\n",
    "from google.colab import drive\n",
    "from google.colab import files\n",
    "import matplotlib.pyplot as plt\n",
    "from datetime import datetime\n",
    "from onnxruntime.quantization import quantize_dynamic, QuantType\n",
    "drive.mount('/content/drive')"
   ]
  },
  {
   "cell_type": "markdown",
   "metadata": {},
   "source": [
    "#### Process Dataset"
   ]
  },
  {
   "cell_type": "code",
   "execution_count": null,
   "metadata": {
    "id": "FXZ5KuJX4WFu"
   },
   "outputs": [],
   "source": [
    "def read_image(path):\n",
    "    #Read image from path using OpenCV.\n",
    "    img = cv2.imread(path)\n",
    "    #Resize image to 256x256x3.\n",
    "    img = cv2.resize(img,(256,256))\n",
    "    #Normalize image.\n",
    "    img = img/255.0\n",
    "    return img\n",
    "\n",
    "def read_target(path):\n",
    "    #Read image from path as greyscale using OpenCV.\n",
    "    msk = cv2.imread(path,cv2.IMREAD_GRAYSCALE)\n",
    "    #Resize target to 256x256.\n",
    "    msk = cv2.resize(msk,(256,256))\n",
    "    #Define target at floating point.\n",
    "    msk = msk/1.0\n",
    "    #Add one dimension to image array.\n",
    "    msk = np.expand_dims(msk,axis=-1)\n",
    "    return msk\n",
    "\n",
    "def mask_parse(mask):\n",
    "    mask = np.squeeze(mask)\n",
    "    mask = [mask, mask, mask]\n",
    "    mask = np.transpose(mask, (1, 2, 0))\n",
    "    return mask\n",
    "\n",
    "def SSIMLoss(y_true, y_pred):\n",
    "    SSIMLoss = 1 - tf.reduce_mean(tf.image.ssim(y_true, y_pred, 1.0))\n",
    "    return SSIMLoss"
   ]
  },
  {
   "cell_type": "markdown",
   "metadata": {
    "id": "8aRci3IAXUQA"
   },
   "source": [
    "#### Convert TF keras model to ONNX format."
   ]
  },
  {
   "cell_type": "code",
   "execution_count": null,
   "metadata": {
    "id": "Qm6s-wXe3spN"
   },
   "outputs": [],
   "source": [
    "#Read Keras model from path.\n",
    "model = tf.keras.models.load_model(\"/PATH/FlareNet_xxx.h5\", custom_objects={'SSIMLoss':SSIMLoss})\n",
    "#Define input tensor type and name.\n",
    "format = (tf.TensorSpec((None, 256, 256, 3), tf.float32, name=\"input_image\"),)\n",
    "#Convert Keras model to ONNX. Optset depends on the Jetpack version, in this case it has to be 12 because 13 is not supported.\n",
    "onnx_model, _ = tf2onnx.convert.from_keras(model, input_signature = format, opset=12)\n",
    "#Define path to save ONNX model.\n",
    "onnx_path = \"/PATH/FlareNet_xxx.onnx\"\n",
    "#Save ONNX model.\n",
    "onnx.save(onnx_model, onnx_path)"
   ]
  }
 ],
 "metadata": {
  "accelerator": "GPU",
  "colab": {
   "provenance": []
  },
  "gpuClass": "standard",
  "kernelspec": {
   "display_name": "Python 3 (ipykernel)",
   "language": "python",
   "name": "python3"
  },
  "language_info": {
   "codemirror_mode": {
    "name": "ipython",
    "version": 3
   },
   "file_extension": ".py",
   "mimetype": "text/x-python",
   "name": "python",
   "nbconvert_exporter": "python",
   "pygments_lexer": "ipython3",
   "version": "3.9.12"
  }
 },
 "nbformat": 4,
 "nbformat_minor": 1
}
